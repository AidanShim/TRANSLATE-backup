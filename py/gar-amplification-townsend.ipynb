{
 "cells": [
  {
   "cell_type": "code",
   "execution_count": null,
   "metadata": {},
   "outputs": [],
   "source": [
    "import glob\n",
    "import re\n",
    "\n",
    "import numpy as np\n",
    "from scipy import stats\n",
    "from matplotlib import pyplot as plt\n",
    "from mpl_toolkits.axes_grid1 import make_axes_locatable\n",
    "\n",
    "from utils import Graph\n",
    "\n",
    "PATH = '/home/david/data/SimLArCADe/gar-data/2PSI/'\n",
    "\n",
    "field_strength = np.array([1,10,20,30,40,50,100,200,300,400,500,600,700,800,900,1000]) # V / cm\n",
    "density = 1.15e19 # cm^-3\n",
    "Td = 1e-17 # 1 Td = 10^-17 V * cm^2\n",
    "\n",
    "reducedfield_v = (field_strength / density) / Td"
   ]
  },
  {
   "cell_type": "code",
   "execution_count": null,
   "metadata": {},
   "outputs": [],
   "source": [
    "plt.rcParams.update({'font.size': 16})"
   ]
  },
  {
   "cell_type": "code",
   "execution_count": null,
   "metadata": {},
   "outputs": [],
   "source": [
    "from scipy.optimize import curve_fit\n",
    "\n",
    "def gauss(x,mu,sigma,A):\n",
    "    norm = A/(np.sqrt(2*np.pi)*sigma)\n",
    "    exp  = np.exp(-((x-mu)**2)/(2*sigma*sigma))\n",
    "    return norm * exp\n",
    "\n",
    "def FitGauss(vals):\n",
    "    variance = np.std(vals)\n",
    "    mean = np.mean(vals)\n",
    "    BINS = np.linspace(mean-2*variance,mean+2*variance,21)\n",
    "    binned,edges = np.histogram(vals,bins=BINS)\n",
    "    bcenters = 0.5*(edges[1:]+edges[:-1])\n",
    "    guess = [mean,variance/2.,np.max(binned)]\n",
    "    try:\n",
    "        popt,popv = curve_fit(gauss,bcenters,binned,p0=guess)\n",
    "        return popt[0],popt[1],popt[2],1\n",
    "    except:\n",
    "        return mean,variance,1,0\n",
    "    #pope = np.sqrt(np.diag(popv))"
   ]
  },
  {
   "cell_type": "code",
   "execution_count": null,
   "metadata": {},
   "outputs": [],
   "source": [
    "gardiff = open('lxcat/gar_townsend.csv','r')\n",
    "measurements_v = []\n",
    "EN_v = []\n",
    "diff_v = []\n",
    "for line in gardiff:\n",
    "    words = line.split()\n",
    "    if (len(words) < 2): \n",
    "        if ( (len(EN_v) == len(diff_v)) and (len(EN_v) > 0) ):\n",
    "            measurements_v.append([EN_v,diff_v])\n",
    "        EN_v = []\n",
    "        diff_v = []\n",
    "    else:\n",
    "        EN_v.append(float(words[0]))\n",
    "        diff_v.append(float(words[1]))"
   ]
  },
  {
   "cell_type": "code",
   "execution_count": null,
   "metadata": {},
   "outputs": [],
   "source": [
    "fig = plt.figure(figsize=(6,6))\n",
    "for measurement in measurements_v:\n",
    "    plt.plot(measurement[0],measurement[1],'o--')\n",
    "plt.xlabel('Reduced Electric Field E/N in Td')\n",
    "plt.ylabel(r'Townsend Coefficient ($\\alpha$/N) [m${}^{2}$]')\n",
    "plt.xscale('log')\n",
    "plt.yscale('log')\n",
    "plt.grid()\n",
    "plt.show()"
   ]
  },
  {
   "cell_type": "markdown",
   "metadata": {},
   "source": [
    "The below two cells load the necessary files and compute the diffusion coefficients. At various fields, $100$ electrons were spawned and allowed to propagate for $10$ ns."
   ]
  },
  {
   "cell_type": "code",
   "execution_count": null,
   "metadata": {},
   "outputs": [],
   "source": [
    "file_tree = {}\n",
    "\n",
    "for field in field_strength:\n",
    "    for file in glob.glob(f'{PATH}/{field}/*.txt'):\n",
    "        key = int(re.search(r'(\\d*)(?:V)', file).group(1))\n",
    "        if (key in file_tree):\n",
    "            file_tree[key].append(file)\n",
    "        else:\n",
    "            file_tree[key] = [file]"
   ]
  },
  {
   "cell_type": "markdown",
   "metadata": {},
   "source": [
    "The below shows the estimation process of the diffusion coefficients: the variance of each coordinate of the electrons in the cloud is plotted as a function of time. The diffusion coefficients are the slopes of these lines."
   ]
  },
  {
   "cell_type": "code",
   "execution_count": null,
   "metadata": {
    "scrolled": false
   },
   "outputs": [],
   "source": [
    "ctr = 0\n",
    "reduced_field_v = []\n",
    "reduced_alpha_v = []\n",
    "\n",
    "for key, value in sorted(file_tree.items()):\n",
    "\n",
    " \n",
    "    group = Graph(value)\n",
    "    \n",
    "    # keep track of number of ionizations produced per electron\n",
    "    ionization_list = []\n",
    "    # keep track of distance traveled\n",
    "    distance_list = []\n",
    "    # loop through number of simulated electrons\n",
    "    for k in range(group.n):\n",
    "        ionization_list.append(group.ionized[k][-1])\n",
    "        distance_list.append(group.x[k][-1])\n",
    "    ionization_list = np.array(ionization_list) + 1\n",
    "    distance_list = np.array(distance_list)\n",
    "    # townsend coeff. from:\n",
    "    # https://en.wikipedia.org/wiki/Townsend_discharge\n",
    "    # but to get the reduced value divide by density\n",
    "    alpha_v = np.log(ionization_list) / distance_list\n",
    "    # 2 Atm = 1520 Torr = 1.520 meters\n",
    "    alpha_red = np.average(alpha_v) / 1e-6 / (density * 1e6) # (1e-6 is because distance stored in um)\n",
    "    \n",
    "    reduced_field_v.append(reducedfield_v[ctr])\n",
    "    reduced_alpha_v.append(alpha_red)\n",
    "    \n",
    "    ctr += 1"
   ]
  },
  {
   "cell_type": "code",
   "execution_count": null,
   "metadata": {},
   "outputs": [],
   "source": [
    "fig = plt.figure(figsize=(6,6))\n",
    "for measurement in measurements_v:\n",
    "    plt.plot(measurement[0],measurement[1],'--')\n",
    "plt.plot(reduced_field_v,reduced_alpha_v,'ko')\n",
    "plt.xlabel('Reduced Electric Field E/N in Td')\n",
    "plt.ylabel(r'Townsend Coefficient ($\\alpha$/N) [m${}^{2}$]')\n",
    "plt.xscale('log')\n",
    "#plt.yscale('log')\n",
    "plt.grid()\n",
    "plt.show()"
   ]
  },
  {
   "cell_type": "code",
   "execution_count": null,
   "metadata": {},
   "outputs": [],
   "source": []
  }
 ],
 "metadata": {
  "kernelspec": {
   "display_name": "Python 3",
   "language": "python",
   "name": "python3"
  },
  "language_info": {
   "codemirror_mode": {
    "name": "ipython",
    "version": 3
   },
   "file_extension": ".py",
   "mimetype": "text/x-python",
   "name": "python",
   "nbconvert_exporter": "python",
   "pygments_lexer": "ipython3",
   "version": "3.7.4"
  }
 },
 "nbformat": 4,
 "nbformat_minor": 2
}
