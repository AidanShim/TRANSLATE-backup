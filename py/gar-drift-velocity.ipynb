{
 "cells": [
  {
   "cell_type": "code",
   "execution_count": null,
   "metadata": {},
   "outputs": [],
   "source": [
    "import glob\n",
    "import re\n",
    "\n",
    "import scipy.interpolate as interpolate\n",
    "from matplotlib import pyplot as plt\n",
    "import numpy as np\n",
    "\n",
    "from utils import Graph\n",
    "\n",
    "# Different pressure levels\n",
    "P_v = [2]#, 7, 15]\n",
    "N_v = [1.15e19]#, 4.02e19, 8.61e19]\n",
    "colors = ['C0']#, 'C1', 'C2']\n",
    "colors_th = ['C0--']#, 'C1--', 'C3--']\n",
    "\n",
    "def log_interp1d(xx, yy, kind='linear'):\n",
    "    logx = np.log10(xx)\n",
    "    logy = np.log10(yy)\n",
    "    lin_interp = interpolate.interp1d(logx, logy, kind=kind)\n",
    "    log_interp = lambda zz: np.power(10.0, lin_interp(np.log10(zz)))\n",
    "    return log_interp"
   ]
  },
  {
   "cell_type": "code",
   "execution_count": null,
   "metadata": {},
   "outputs": [],
   "source": [
    "PATH = '/Users/davidc-local/Neutrinos/LArCADe/SimLArCADe/py/diff/gas-vdrift/2PSI/'"
   ]
  },
  {
   "cell_type": "code",
   "execution_count": null,
   "metadata": {},
   "outputs": [],
   "source": [
    "#field_v = [10,30,50,100,300,500,1000,3000,5000,10000,30000,50000]\n",
    "field_v = [10,30,100,300,1000,3000,10000]"
   ]
  },
  {
   "cell_type": "markdown",
   "metadata": {},
   "source": [
    "The below imports and processes the simulation runs. At each bulk field, $20$ simulations were run for $1$ $\\mu$s at the three investigated pressures."
   ]
  },
  {
   "cell_type": "code",
   "execution_count": null,
   "metadata": {},
   "outputs": [],
   "source": [
    "E_vals = [[], [], []]\n",
    "\n",
    "v_vals = [[], [], []]\n",
    "v_devs = [[], [], []]\n",
    "\n",
    "eV_vals = [[], [], []]\n",
    "eV_devs = [[], [], []]\n",
    "\n",
    "for i, p in enumerate(P_v):\n",
    "    file_tree = {}\n",
    "    \n",
    "    print ('here')\n",
    "\n",
    "    #for file in glob.glob(f'{PATH}/*/*.txt'):\n",
    "    for field in field_v:   \n",
    "        \n",
    "        print ('field is ',field)\n",
    "    \n",
    "        key = field #int(re.search(r'(\\d*)(?:V)', file).group(1))\n",
    "        \n",
    "        THISPATH = f'{PATH}/{field}/'\n",
    "        print (THISPATH)\n",
    "        for file in glob.glob(f'{PATH}/{field}/*.txt'):\n",
    "            #print ('found file ',file)\n",
    "            if (key in file_tree):\n",
    "                file_tree[key].append(file)\n",
    "            else:\n",
    "                file_tree[key] = [file]\n",
    "\n",
    "    for key, value in sorted(file_tree.items()):\n",
    "        group = Graph(value)\n",
    "\n",
    "        E_vals[i].append(key)\n",
    "\n",
    "        v_vals[i].append(group.drift_mean())\n",
    "        v_devs[i].append(group.drift_std_dev())\n",
    "\n",
    "        eV_vals[i].append(np.mean([np.mean(k) for k in group.ke]))\n",
    "        eV_devs[i].append(np.std([np.mean(k) for k in group.ke], ddof=1))"
   ]
  },
  {
   "cell_type": "code",
   "execution_count": null,
   "metadata": {
    "scrolled": false
   },
   "outputs": [],
   "source": [
    "eVs_all = []\n",
    "bincentres = 0\n",
    "\n",
    "simulation_v = []\n",
    "\n",
    "for key, value in sorted(file_tree.items()):\n",
    "    print(key)\n",
    "    group = Graph(value)\n",
    "    #time, vel = self.t, self.drift\n",
    "    time, vel = group.t, group.drift\n",
    "    ke = group.ke\n",
    "    \n",
    "    # plt.rcParams['font.size'] = 14\n",
    "    # plt.rcParams['font.family'] = 'serif'\n",
    "    # fig = plt.figure(figsize=(6, 6))\n",
    "    \n",
    "    plt.title(f'Electron Drift Velocities at {key} V/cm')\n",
    "    plt.xlabel('Time [ns]')\n",
    "    plt.ylabel('Drift Velocity [m/s]')\n",
    "    \n",
    "    for i, t in enumerate(time):\n",
    "        plt.plot(t, vel[i], alpha=0.6)\n",
    "        \n",
    "    MIN = 0\n",
    "    MAX = 3000\n",
    "    \n",
    "    #theory = mobility(key * 1e-3) * (key * 1e-2)\n",
    "    \n",
    "    driftvel = group.drift_mean()\n",
    "    #theory_v.append(theory)\n",
    "    \n",
    "    plt.plot(time[0], np.full(len(time[0]), driftvel), 'b--', label='Mean Drift Velocity')\n",
    "    #plt.plot([MIN,MAX], [theory, theory], 'r--', label='Data from [6]')\n",
    "    plt.xlim(MIN,MAX)\n",
    "    #plt.ylim(0,theory*2)\n",
    "    plt.ylim(0,driftvel*3)\n",
    "    \n",
    "    simulation_v.append(driftvel)\n",
    "    \n",
    "    max_ev = np.amax([np.amax(k) for k in ke])\n",
    "    \n",
    "    bin_list = np.linspace(0, 2.6, 100)\n",
    "    H, bins = np.histogram(ke[0], bins=bin_list, density=True)\n",
    "    \n",
    "    for i in range(group.n - 1):\n",
    "        H_, bins_ = np.histogram(ke[i + 1], bins=bin_list, density=True)\n",
    "        H += H_\n",
    "        \n",
    "        \n",
    "    bincentres = [(bins[i] + bins[i + 1]) / 2. for i in range(len(bins) - 1)]\n",
    "    eVs_all.append(H)\n",
    "\n",
    "    plt.grid()\n",
    "    plt.legend()\n",
    "    plt.show()\n",
    "    \n",
    "    # plt.savefig(f'lar_drift_vel_{key}.pdf', bbox_inches='tight')"
   ]
  },
  {
   "cell_type": "markdown",
   "metadata": {},
   "source": [
    "The below cells plots mean electron energy across different pressures. As the $x$-axis is normalized with respect to pressure, all three plots should coincide. The data is taken from V. Puech and L. Torchin. Collision cross sections and electron swarm parameters in argon. Journal of Physics D: Applied Physics, 19(12):2309–2323, Dec 1986."
   ]
  },
  {
   "cell_type": "code",
   "execution_count": null,
   "metadata": {},
   "outputs": [],
   "source": [
    "x = [1e-18, 1e-17, 6e-17, 1e-15, 2e-15]\n",
    "y = [0.5, 1.3, 3.3, 4.5, 5]\n",
    "\n",
    "data = log_interp1d(x, y)\n",
    "x_vs = np.logspace(-18, np.log10(2e-15), 100)\n",
    "\n",
    "# plt.rcParams['font.size'] = 14\n",
    "# plt.rcParams['font.family'] = 'serif'\n",
    "# fig = plt.figure(figsize=(6, 6))\n",
    "\n",
    "plt.plot(x_vs, data(x_vs), 'k--', label='Data from [8]')\n",
    "\n",
    "for i, p in enumerate(P_v):\n",
    "    plt.errorbar([E / N_v[i] for E in E_vals[i]], eV_vals[i], yerr=eV_devs[i], label=f'{p} PSI')\n",
    "\n",
    "plt.xlabel('Reduced Electric Field, E/n [Vcm$^2$]')\n",
    "plt.ylabel('Mean Energy [eV]')\n",
    "\n",
    "plt.xscale('log')\n",
    "plt.xlim(1e-18, 2e-15)\n",
    "plt.ylim(0, 9)\n",
    "\n",
    "plt.title(f'Mean Energy in GAr')\n",
    "\n",
    "plt.grid()\n",
    "plt.legend()\n",
    "plt.tight_layout()\n",
    "plt.show()\n",
    "\n",
    "# plt.savefig(f'gar_energy.pdf', bbox_inches='tight')"
   ]
  },
  {
   "cell_type": "markdown",
   "metadata": {},
   "source": [
    "The below cells plots mean electron drift velocity across different pressures. As the $x$-axis is normalized with respect to pressure, all three plots should coincide. The data is taken from V. Puech and L. Torchin. Collision cross sections and electron swarm parameters in argon. Journal of Physics D: Applied Physics, 19(12):2309–2323, Dec 1986."
   ]
  },
  {
   "cell_type": "code",
   "execution_count": null,
   "metadata": {},
   "outputs": [],
   "source": [
    "x = [1e-19, 3e-17, 2e-15]\n",
    "y = [9e4, 3e5, 2e7]\n",
    "\n",
    "data = log_interp1d(x, y)\n",
    "x_vs = np.logspace(-19, np.log10(2e-15), 100)\n",
    "\n",
    "# plt.rcParams['font.size'] = 14\n",
    "# plt.rcParams['font.family'] = 'serif'\n",
    "#fig = plt.figure(figsize=(8, 6))\n",
    "\n",
    "plt.plot(x_vs, data(x_vs), 'k--', label='Data from [8]')\n",
    "\n",
    "for i, p in enumerate(P_v):\n",
    "        plt.errorbar([E / N_v[i] for E in E_vals[i]], [v * 1e2 for v in v_vals[i]], yerr=[v * 1e2 for v in v_devs[i]], label=f'{p} PSI')\n",
    "\n",
    "plt.xlabel('Reduced Electric Field, E/n [Vcm$^2$]')\n",
    "plt.ylabel('Drift Velocity [cm/s]')\n",
    "plt.title(f'Drift Velocity in GAr - diff. xsec')\n",
    "\n",
    "plt.xscale('log')\n",
    "plt.yscale('log')\n",
    "#plt.xlim(1e-19, 1e-14)\n",
    "#plt.ylim(1e4, 1e8)\n",
    "\n",
    "plt.xlim(1e-19, 1e-14)\n",
    "plt.ylim(1e4, 10e7)\n",
    "\n",
    "\n",
    "plt.legend()\n",
    "plt.grid()\n",
    "plt.tight_layout()\n",
    "plt.savefig(f'plots/gar_driftvel_diff.pdf', dpi=250)\n",
    "plt.show()\n",
    "\n",
    "# plt.savefig(f'gar_drift.pdf', bbox_inches='tight')"
   ]
  },
  {
   "cell_type": "code",
   "execution_count": null,
   "metadata": {},
   "outputs": [],
   "source": [
    "import readfile"
   ]
  },
  {
   "cell_type": "code",
   "execution_count": null,
   "metadata": {},
   "outputs": [],
   "source": [
    "PATH = \"/Users/davidc-local/Neutrinos/LArCADe/SimLArCADe/py/lxcat/Mobility_x_gas_density.txt\"\n",
    "xtitle,ytitle,datadict = readfile.getLXCATdata(PATH)"
   ]
  },
  {
   "cell_type": "code",
   "execution_count": null,
   "metadata": {},
   "outputs": [],
   "source": [
    "fig = plt.figure(figsize=(6,6))\n",
    "for key,data in datadict.items():\n",
    "    if (len(data[0]) < 20):\n",
    "        continue\n",
    "    plt.plot(data[0],data[1],'o',label=key)\n",
    "plt.xlabel(xtitle)\n",
    "plt.ylabel(ytitle)\n",
    "plt.legend()\n",
    "plt.xscale('log')\n",
    "plt.yscale('log')\n",
    "plt.show()"
   ]
  },
  {
   "cell_type": "code",
   "execution_count": null,
   "metadata": {},
   "outputs": [],
   "source": []
  },
  {
   "cell_type": "code",
   "execution_count": null,
   "metadata": {},
   "outputs": [],
   "source": []
  },
  {
   "cell_type": "code",
   "execution_count": null,
   "metadata": {},
   "outputs": [],
   "source": []
  }
 ],
 "metadata": {
  "kernelspec": {
   "display_name": "Python 3",
   "language": "python",
   "name": "python3"
  },
  "language_info": {
   "codemirror_mode": {
    "name": "ipython",
    "version": 3
   },
   "file_extension": ".py",
   "mimetype": "text/x-python",
   "name": "python",
   "nbconvert_exporter": "python",
   "pygments_lexer": "ipython3",
   "version": "3.7.9"
  }
 },
 "nbformat": 4,
 "nbformat_minor": 2
}
