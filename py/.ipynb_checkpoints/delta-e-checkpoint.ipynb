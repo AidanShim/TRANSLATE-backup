{
 "cells": [
  {
   "cell_type": "code",
   "execution_count": 37,
   "metadata": {},
   "outputs": [],
   "source": [
    "import numpy as np\n",
    "from scipy.stats import maxwell\n",
    "from math import sqrt\n",
    "from random import gauss\n",
    "from matplotlib import pyplot as plt\n",
    "\n",
    "T = 87          # K\n",
    "M_a = 6.63e-26  # kg\n",
    "m_e = 9.1e-31   # kg\n",
    "k_b = 1.38e-23  # J/K\n",
    "\n",
    "def J_to_eV(J):\n",
    "    return 6.242e18 * J\n",
    "\n",
    "def eV_to_J(eV):\n",
    "    return 1.60218e-19 * eV\n",
    "\n",
    "# m/s to J\n",
    "def v_to_E(v):\n",
    "    return 0.5 * m_e * np.dot(v, v)\n",
    "\n",
    "# J to m/s\n",
    "def E_to_v(E):\n",
    "    return sqrt(2 * E / m_e)\n",
    "\n",
    "def random_unit_vector():\n",
    "    vec = [gauss(0, 1) for i in range(3)]\n",
    "    mag = sum(x**2 for x in vec)**.5\n",
    "    return np.array([x / mag for x in vec])\n",
    "\n",
    "def random_velocity(eV):\n",
    "    mag = E_to_v(eV_to_J(eV))\n",
    "    return random_unit_vector() * mag"
   ]
  },
  {
   "cell_type": "code",
   "execution_count": 34,
   "metadata": {},
   "outputs": [
    {
     "data": {
      "image/png": "[encoded data removed]",
      "text/plain": [
       "<Figure size 1152x576 with 1 Axes>"
      ]
     },
     "metadata": {},
     "output_type": "display_data"
    }
   ],
   "source": [
    "fig = plt.figure(figsize=(16,8))\n",
    "\n",
    "en_list = [10, 15, 20]\n",
    "\n",
    "for e in en_list:\n",
    "    energies = []\n",
    "    for i in range(1000):\n",
    "        v = random_velocity(e)\n",
    "\n",
    "        vm = random_unit_vector() * maxwell.rvs(size=1, scale=134.568)\n",
    "        u = np.dot(v - vm, v - vm)**0.5\n",
    "        n = random_unit_vector()\n",
    "\n",
    "        a = (M_a * u) * n\n",
    "        b = (m_e) * v\n",
    "        c = (M_a) * vm\n",
    "\n",
    "        v1 = (a + b + c) / (m_e + M_a)\n",
    "\n",
    "        v = v1\n",
    "        \n",
    "        energy = J_to_eV(v_to_E(v))\n",
    "\n",
    "        if (energy < 0):\n",
    "            print(energy)\n",
    "        \n",
    "        energies.append(energy)\n",
    "\n",
    "    plt.hist(energies, label=str(e))\n",
    "\n",
    "plt.show()"
   ]
  },
  {
   "cell_type": "markdown",
   "metadata": {},
   "source": [
    "The plot above shows energies resulting from a single momentum-transferral collision. The groupings are extremely narrow around the electron's initial energy, implying such individual collisions do not significantly change our energy.\n",
    "\n",
    "Our electron's velocity is almost always much higher than the velocity of our argon atoms. This implies $v \\gg v_m$, and hence $\\vec{u}\\approx\\vec{v}$. This further implies we can neglect the $\\frac{M}{M+m}\\vec{v}_m$ term in the collision formula.\n",
    "\n",
    "If we define $\\vec{w}=\\frac{Mv\\hat{n}+m\\vec{v}}{M+m}$, we see $\\vec{v}_1\\approx\\vec{w}$, and so the final energy of our electron will be approximately $\\frac{1}{2}mw^2$. The maximum of this quantity occurs when $\\vec{n}$ coincides with $\\vec{v}$ in which case we get $\\frac{1}{2}mv^2$, i.e. unity gain. The minimum of this occurs when $\\vec{n}$ points in the opposite direction, in which case we get $\\frac{1}{2}mv^2\\frac{(M-m)^2}{(M+m)^2}$, i.e. a gain of 0.9999."
   ]
  },
  {
   "cell_type": "code",
   "execution_count": null,
   "metadata": {},
   "outputs": [],
   "source": []
  }
 ],
 "metadata": {
  "kernelspec": {
   "display_name": "Python 3",
   "language": "python",
   "name": "python3"
  },
  "language_info": {
   "codemirror_mode": {
    "name": "ipython",
    "version": 3
   },
   "file_extension": ".py",
   "mimetype": "text/x-python",
   "name": "python",
   "nbconvert_exporter": "python",
   "pygments_lexer": "ipython3",
   "version": "3.6.8"
  }
 },
 "nbformat": 4,
 "nbformat_minor": 2
}
