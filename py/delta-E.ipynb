{
 "cells": [
  {
   "cell_type": "code",
   "execution_count": 29,
   "metadata": {},
   "outputs": [],
   "source": [
    "import numpy as np\n",
    "from scipy.stats import maxwell\n",
    "from math import sqrt\n",
    "from random import gauss\n",
    "from matplotlib import pyplot as plt\n",
    "\n",
    "T = 87\n",
    "M_a = 6.63e-26\n",
    "m_e = 9.1e-31\n",
    "k_b = 1.38e-23\n",
    "\n",
    "def v_to_E(v):\n",
    "    return 0.5 * m_e * np.dot(v, v) * 6.242e18\n",
    "\n",
    "def E_to_v(E):\n",
    "    return sqrt(1.6e-19 * 2 * E / m_e)\n",
    "\n",
    "def random_unit_vector():\n",
    "    vec = [gauss(0, 1) for i in range(3)]\n",
    "    mag = sum(x**2 for x in vec)**.5\n",
    "    return np.array([x / mag for x in vec])\n",
    "\n",
    "def random_velocity(eV):\n",
    "    mag = E_to_v(eV)\n",
    "    return random_unit_vector() * mag"
   ]
  },
  {
   "cell_type": "code",
   "execution_count": 36,
   "metadata": {},
   "outputs": [
    {
     "data": {
      "image/png": "[encoded data removed]",
      "text/plain": [
       "<Figure size 720x720 with 1 Axes>"
      ]
     },
     "metadata": {},
     "output_type": "display_data"
    }
   ],
   "source": [
    "fig = plt.figure(figsize=(10,10))\n",
    "\n",
    "en_list = [10, 15, 20]\n",
    "\n",
    "for e in en_list:\n",
    "    energies = []\n",
    "    for i in range(1000):\n",
    "        v = random_velocity(e)\n",
    "\n",
    "        vm = maxwell.rvs(size=3, scale=134.568)\n",
    "        u = np.dot(v - vm, v - vm)**0.5\n",
    "        n = random_unit_vector()\n",
    "\n",
    "        a = (M_a * u) * n\n",
    "        b = (m_e) * v\n",
    "        c = (M_a) * vm\n",
    "\n",
    "        v1 = (a + b + c) / (m_e + M_a)\n",
    "\n",
    "        # v = np.dot(v1, v1)**0.5 / np.dot(v, v)**0.5 * v\n",
    "        v = v1\n",
    "        \n",
    "        energies.append(v_to_E(v))\n",
    "\n",
    "    plt.hist(energies, label=str(e))\n",
    "\n",
    "plt.show()"
   ]
  },
  {
   "cell_type": "code",
   "execution_count": null,
   "metadata": {},
   "outputs": [],
   "source": []
  }
 ],
 "metadata": {
  "kernelspec": {
   "display_name": "Python 3",
   "language": "python",
   "name": "python3"
  },
  "language_info": {
   "codemirror_mode": {
    "name": "ipython",
    "version": 3
   },
   "file_extension": ".py",
   "mimetype": "text/x-python",
   "name": "python",
   "nbconvert_exporter": "python",
   "pygments_lexer": "ipython3",
   "version": "3.6.8"
  }
 },
 "nbformat": 4,
 "nbformat_minor": 2
}
