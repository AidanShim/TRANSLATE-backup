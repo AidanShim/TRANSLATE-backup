{
 "cells": [
  {
   "cell_type": "markdown",
   "metadata": {},
   "source": [
    "Make sure to set all parameters in this top cell. Included in the repository are the Biagi, Puech, and BSR databases. All have a minimum indexing eV of 0.001. Biagi has a maximum indexing eV of 950, BSR has a maximum indexing eV of 300, and Puech has a maximum indexing eV of 150."
   ]
  },
  {
   "cell_type": "code",
   "execution_count": 1,
   "metadata": {},
   "outputs": [],
   "source": [
    "import numpy as np\n",
    "import scipy.interpolate as interpolate\n",
    "import math\n",
    "import re\n",
    "import glob\n",
    "from matplotlib import pyplot as plt\n",
    "import os\n",
    "import matplotlib.pylab as pylab\n",
    "\n",
    "database = 'BSR' # Will use the cross-sections contained in cross-sections/{database}\n",
    "eV_min = 1e-3      # The minimum eV addressable using this dataset\n",
    "eV_max = 2e2     # The maximum eV addressable using this dataset\n",
    "eV_steps = 1000    # The number of steps to break each cross-section LUT into"
   ]
  },
  {
   "cell_type": "markdown",
   "metadata": {},
   "source": [
    "The below cell imports the necessary files and creates the functions used to modify the GAr momentum-transfer cross-section."
   ]
  },
  {
   "cell_type": "code",
   "execution_count": 2,
   "metadata": {},
   "outputs": [
    {
     "name": "stdout",
     "output_type": "stream",
     "text": [
      "[7.3872e-16 6.3401e-16 5.8297e-16 5.5034e-16 4.8352e-16 4.4142e-16\n",
      " 4.0406e-16 3.6986e-16 3.4359e-16 3.2304e-16 3.0234e-16 2.7330e-16\n",
      " 1.4537e-16 8.1583e-17 4.6257e-17 2.6212e-17 1.5220e-17 9.9301e-18\n",
      " 8.3816e-18 9.3388e-18 1.2000e-17 1.5824e-17 2.0441e-17 2.5592e-17\n",
      " 3.1093e-17 3.6811e-17 4.2653e-17 4.8550e-17 5.4454e-17 6.0329e-17\n",
      " 6.6151e-17 8.0383e-17 9.4069e-17 1.0719e-16 1.1980e-16 1.3194e-16\n",
      " 1.4368e-16 1.5509e-16 1.6623e-16 1.7715e-16 1.8790e-16 1.9852e-16\n",
      " 2.0904e-16 2.1949e-16 2.2990e-16 2.4029e-16 2.5067e-16 2.6105e-16\n",
      " 2.7146e-16 2.8189e-16 2.9236e-16 3.1342e-16 3.2879e-16 3.4719e-16\n",
      " 3.6590e-16 3.8500e-16 4.0446e-16 4.2434e-16 4.4459e-16 4.6525e-16\n",
      " 4.8623e-16 5.0760e-16 5.2932e-16 5.5141e-16 5.7386e-16 5.9667e-16\n",
      " 6.1984e-16 6.4333e-16 6.6716e-16 6.9129e-16 7.1571e-16 7.4036e-16\n",
      " 7.6527e-16 7.9039e-16 8.1572e-16 8.4121e-16 8.6686e-16 8.9266e-16\n",
      " 9.1858e-16 9.4459e-16 9.7064e-16 9.9674e-16 1.0228e-15 1.0489e-15\n",
      " 1.0749e-15 1.1007e-15 1.1264e-15 1.1519e-15 1.1772e-15 1.2023e-15\n",
      " 1.2270e-15 1.2513e-15 1.2753e-15 1.2989e-15 1.3220e-15 1.3445e-15\n",
      " 1.3666e-15 1.3880e-15 1.4088e-15 1.4288e-15 1.4482e-15 1.4668e-15\n",
      " 1.4846e-15 1.5016e-15 1.5178e-15 1.5330e-15 1.5474e-15 1.5608e-15\n",
      " 1.5733e-15 1.5848e-15 1.5953e-15 1.6048e-15 1.6134e-15 1.6210e-15\n",
      " 1.6275e-15 1.6331e-15 1.6378e-15 1.6429e-15 1.6432e-15 1.6434e-15\n",
      " 1.6435e-15 1.6436e-15 1.6437e-15 1.6437e-15 1.6437e-15 1.6437e-15\n",
      " 1.6437e-15 1.6437e-15 1.6436e-15 1.6435e-15 1.6434e-15 1.6433e-15\n",
      " 1.6432e-15 1.6430e-15 1.6429e-15 1.6427e-15 1.6425e-15 1.6423e-15\n",
      " 1.6421e-15 1.6419e-15 1.6416e-15 1.6413e-15 1.6406e-15 1.6394e-15\n",
      " 1.6384e-15 1.6373e-15 1.6252e-15 1.6360e-15 1.6359e-15 1.6361e-15\n",
      " 1.6365e-15 1.6370e-15 1.6376e-15 1.6381e-15 1.6384e-15 1.6375e-15\n",
      " 1.6366e-15 1.6359e-15 1.6353e-15 1.6347e-15 1.6342e-15 1.6336e-15\n",
      " 1.6332e-15 1.6326e-15 1.6321e-15 1.6316e-15 1.6310e-15 1.6305e-15\n",
      " 1.6299e-15 1.6293e-15 1.6287e-15 1.6281e-15 1.6275e-15 1.6269e-15\n",
      " 1.6262e-15 1.6256e-15 1.6249e-15 1.6243e-15 1.6236e-15 1.6229e-15\n",
      " 1.6221e-15 1.6214e-15 1.6207e-15 1.6200e-15 1.6192e-15 1.6184e-15\n",
      " 1.6177e-15 1.6169e-15 1.6161e-15 1.6153e-15 1.6145e-15 1.6137e-15\n",
      " 1.6129e-15 1.6121e-15 1.6113e-15 1.6105e-15 1.6097e-15 1.6089e-15\n",
      " 1.6081e-15 1.6073e-15 1.6065e-15 1.6057e-15 1.6048e-15 1.6040e-15\n",
      " 1.6032e-15 1.6024e-15 1.6016e-15 1.6008e-15 1.6000e-15 1.5993e-15\n",
      " 1.5985e-15 1.5977e-15 1.5969e-15 1.5962e-15 1.5954e-15 1.5947e-15\n",
      " 1.5939e-15 1.5932e-15 1.5925e-15 1.5918e-15 1.5912e-15 1.5906e-15\n",
      " 1.5900e-15 1.5894e-15 1.5890e-15 1.5886e-15 1.5881e-15 1.5876e-15\n",
      " 1.5869e-15 1.5861e-15 1.5851e-15 1.5840e-15 1.5827e-15 1.5810e-15\n",
      " 1.5783e-15 1.5739e-15 1.5675e-15 1.5634e-15 1.5643e-15 1.5668e-15\n",
      " 1.5686e-15 1.5691e-15 1.5687e-15 1.5685e-15 1.5676e-15 1.5671e-15\n",
      " 1.5670e-15 1.5666e-15 1.5660e-15 1.5659e-15 1.5653e-15 1.5640e-15\n",
      " 1.5623e-15 1.5608e-15 1.5593e-15 1.5580e-15 1.5563e-15 1.5545e-15\n",
      " 1.5548e-15 1.5539e-15 1.5528e-15 1.5515e-15 1.5502e-15 1.5490e-15\n",
      " 1.5478e-15 1.5466e-15 1.5454e-15 1.5442e-15 1.5430e-15 1.5418e-15\n",
      " 1.5407e-15 1.5395e-15 1.5383e-15 1.5371e-15 1.5360e-15 1.5348e-15\n",
      " 1.5336e-15 1.5324e-15 1.5312e-15 1.5300e-15 1.5288e-15 1.5276e-15\n",
      " 1.5264e-15 1.5252e-15 1.5240e-15 1.5228e-15 1.5215e-15 1.5203e-15\n",
      " 1.5191e-15 1.5179e-15 1.5168e-15 1.5157e-15 1.5148e-15 1.5144e-15\n",
      " 1.5124e-15 1.5106e-15 1.5093e-15 1.5080e-15 1.5068e-15 1.5056e-15\n",
      " 1.5045e-15 1.5037e-15 1.5025e-15 1.5010e-15 1.4994e-15 1.4973e-15\n",
      " 1.4948e-15 1.4933e-15 1.4933e-15 1.4926e-15 1.4916e-15 1.4906e-15\n",
      " 1.4894e-15 1.4881e-15 1.4866e-15 1.4851e-15 1.4840e-15 1.4825e-15\n",
      " 1.4812e-15 1.4799e-15 1.4800e-15 1.4773e-15 1.4759e-15 1.4744e-15\n",
      " 1.4731e-15 1.4717e-15 1.4703e-15 1.4689e-15 1.4676e-15 1.4662e-15\n",
      " 1.4655e-15 1.4633e-15 1.4619e-15 1.4608e-15 1.4595e-15 1.4581e-15\n",
      " 1.4567e-15 1.4552e-15 1.4527e-15 1.4511e-15 1.4499e-15 1.4486e-15\n",
      " 1.4473e-15 1.4455e-15 1.4445e-15 1.4432e-15 1.4423e-15 1.4409e-15\n",
      " 1.4391e-15 1.4377e-15 1.4364e-15 1.4354e-15 1.4340e-15 1.4326e-15\n",
      " 1.4312e-15 1.4298e-15 1.4283e-15 1.4269e-15 1.4255e-15 1.4242e-15\n",
      " 1.4229e-15 1.4214e-15 1.4203e-15 1.4189e-15 1.4174e-15 1.4156e-15\n",
      " 1.4134e-15 1.4113e-15 1.4094e-15 1.4089e-15 1.4076e-15 1.4077e-15\n",
      " 1.4053e-15 1.4044e-15 1.4027e-15 1.4008e-15 1.3989e-15 1.3973e-15\n",
      " 1.3956e-15 1.3944e-15 1.3927e-15 1.3913e-15 1.3897e-15 1.3883e-15\n",
      " 1.3865e-15 1.3846e-15 1.3830e-15 1.3817e-15 1.3800e-15 1.3785e-15\n",
      " 1.3772e-15 1.3754e-15 1.3739e-15 1.3725e-15 1.3711e-15 1.3698e-15\n",
      " 1.3683e-15 1.3665e-15 1.3646e-15 1.3636e-15 1.3622e-15 1.3604e-15\n",
      " 1.3588e-15 1.3576e-15 1.3563e-15 1.3543e-15 1.3531e-15 1.3518e-15\n",
      " 1.3508e-15 1.3495e-15 1.3480e-15 1.3440e-15 1.3433e-15 1.3417e-15\n",
      " 1.3395e-15 1.3379e-15 1.3365e-15 1.3349e-15 1.3338e-15 1.3318e-15\n",
      " 1.3303e-15 1.3287e-15 1.3274e-15 1.3256e-15 1.3241e-15 1.3222e-15\n",
      " 1.3208e-15 1.3198e-15 1.3179e-15 1.3159e-15 1.3146e-15 1.3130e-15\n",
      " 1.3112e-15 1.3095e-15 1.3082e-15 1.3068e-15 1.2891e-15 1.1747e-15\n",
      " 1.0671e-15 9.7341e-16 8.8706e-16 8.0961e-16 7.5267e-16 6.9355e-16\n",
      " 6.5125e-16 6.0738e-16 4.7727e-16 3.5599e-16 3.0522e-16 2.7540e-16\n",
      " 2.5490e-16 2.3707e-16 2.1856e-16 1.9950e-16 1.6872e-16 1.4800e-16\n",
      " 1.3073e-16 1.1614e-16 1.0968e-16 9.6820e-17 8.8907e-17 8.3962e-17]\n",
      "[[0.00000000e+00 0.00000000e+00 0.00000000e+00 ... 2.07719856e-17\n",
      "  2.06558338e-17 2.05382541e-17]\n",
      " [0.00000000e+00 0.00000000e+00 0.00000000e+00 ... 2.85539285e-18\n",
      "  2.82919640e-18 2.80267792e-18]\n",
      " [0.00000000e+00 0.00000000e+00 0.00000000e+00 ... 2.42576271e-17\n",
      "  2.41224524e-17 2.39856159e-17]]\n"
     ]
    }
   ],
   "source": [
    "m_e = 9.1e-31\n",
    "\n",
    "def E_to_v(eV):\n",
    "    return np.sqrt((2 * eV * 1.60218e-19) / (m_e))\n",
    "\n",
    "# Low eV energy-independent LAr cross-sections that merge with the (single) momentum-transfer GAr cross-section at several eV (see Wojcik and Tachiya)\n",
    "def liquid_sigma_e(eV, gas_sigma_p):\n",
    "    if eV < 3.85:\n",
    "        return 5.5e-16\n",
    "    return gas_sigma_p(eV)\n",
    "\n",
    "def liquid_sigma_p(eV, S, gas_sigma_p):\n",
    "    if eV < 4.6:\n",
    "        return S(eV) * 5.5e-16\n",
    "    return gas_sigma_p(eV)\n",
    "\n",
    "eV_list = np.logspace(np.log10(eV_min), np.log10(eV_max), eV_steps)\n",
    "\n",
    "sigma_p_eVs, sigma_p = np.loadtxt(f'cross-sections/{database}/momentum_xsec.txt', unpack=True)  # m^2\n",
    "sigma_p *= 1e4                                                                                  # to cm^2\n",
    "print(sigma_p)\n",
    "sigma_p_func = interpolate.interp1d(sigma_p_eVs, sigma_p, kind='slinear', fill_value=(0., 0.), bounds_error=False)\n",
    "\n",
    "sigma_i_eVs, sigma_i = np.loadtxt(f'cross-sections/{database}/ionization_xsec.txt', unpack=True) # m^2\n",
    "sigma_i *= 1e4                                                                                   # to cm^2  \n",
    "sigma_i_func = interpolate.interp1d(sigma_i_eVs, sigma_i, kind='slinear', fill_value=(0., 0.), bounds_error=False)\n",
    "\n",
    "# S is the structure factor of LAr (see Wojcik and Tachiya)\n",
    "S_eVs = np.array([0, 1, 2, 3, 4, 5, 6, 7])\n",
    "S = np.array([0.048, 0.055, 0.125, 0.4, 1.115, 1.29, 1.16, 1.01])\n",
    "S_func = interpolate.interp1d(S_eVs, S, kind='quadratic', fill_value=(0.048, 1), bounds_error=False)\n",
    "\n",
    "final_sigma_e = np.vectorize(lambda eV: liquid_sigma_e(eV, sigma_p_func))\n",
    "final_sigma_p = np.vectorize(lambda eV: liquid_sigma_p(eV, S_func, sigma_p_func))\n",
    "\n",
    "file_list = []\n",
    "#avgs = np.full(4, 0.)\n",
    "avgs = np.full(4, 0.)\n",
    "\n",
    "#for ex_level in [11, 13, 14, 15]:\n",
    "for ex_level in [11,13,14]:\n",
    "    file_list.append(glob.glob(f'cross-sections/{database}/{ex_level}/excite_xsec_*.txt'))\n",
    "\n",
    "#sigma_ex = np.full((4, eV_steps), 0.)\n",
    "sigma_ex = np.full((3, eV_steps), 0.)\n",
    "sigma_ex_tot = np.zeros(eV_steps)\n",
    "\n",
    "for k, file_group in enumerate(file_list):\n",
    "    for file in file_group:\n",
    "        x_temp, y_temp = np.loadtxt(file, unpack=True)\n",
    "        interp_func = interpolate.interp1d(x_temp, y_temp, kind='slinear', fill_value=(0., 0.), bounds_error=False)\n",
    "        avgs[k] += float(re.search(r'\\d*\\.\\d*', file)[0])\n",
    "        sigma_ex[k] += interp_func(eV_list) * 1e4\n",
    "        sigma_ex_tot += interp_func(eV_list) * 1e4\n",
    "    avgs[k] /= len(file_group)\n",
    "print(sigma_ex)"
   ]
  },
  {
   "cell_type": "markdown",
   "metadata": {},
   "source": [
    "The below cell condenses the given excitation cross-sections into four energy bands."
   ]
  },
  {
   "cell_type": "code",
   "execution_count": 3,
   "metadata": {},
   "outputs": [
    {
     "data": {
      "image/png": "[encoded data removed]",
      "text/plain": [
       "<Figure size 432x288 with 1 Axes>"
      ]
     },
     "metadata": {
      "needs_background": "light"
     },
     "output_type": "display_data"
    }
   ],
   "source": [
    "for k, ex_level in enumerate(sigma_ex):\n",
    "    plt.plot(eV_list, ex_level, label=f'$\\sigma_{{ex,{avgs[k]:.2f}}}$')\n",
    "\n",
    "plt.plot(eV_list, sigma_ex_tot, 'g', label='$\\sigma_{ex,tot}$')\n",
    "\n",
    "plt.xlim(eV_min, eV_max)\n",
    "\n",
    "plt.xlabel('Electron Energy [eV]')\n",
    "plt.ylabel('Cross Section [cm$^2$]')\n",
    "\n",
    "plt.title('Excitation Cross Sections')\n",
    "\n",
    "plt.xscale('log')\n",
    "plt.yscale('log')\n",
    "\n",
    "plt.legend()\n",
    "plt.grid()\n",
    "plt.tight_layout()\n",
    "plt.show()"
   ]
  },
  {
   "cell_type": "markdown",
   "metadata": {},
   "source": [
    "The cell below show all cross-sections together."
   ]
  },
  {
   "cell_type": "code",
   "execution_count": 8,
   "metadata": {},
   "outputs": [
    {
     "data": {
      "image/png": "[encoded data removed]",
      "text/plain": [
       "<Figure size 432x432 with 1 Axes>"
      ]
     },
     "metadata": {
      "needs_background": "light"
     },
     "output_type": "display_data"
    }
   ],
   "source": [
    "fig = plt.figure(figsize=(6,6))\n",
    "plt.plot(eV_list, sigma_p_func(eV_list), label=r'$\\sigma_p$')\n",
    "plt.plot(eV_list, final_sigma_e(eV_list), label=r'LAr $\\sigma_E$')\n",
    "plt.plot(eV_list, final_sigma_p(eV_list), label=r'LAr $\\sigma_p$')\n",
    "\n",
    "plt.plot(eV_list, sigma_i_func(eV_list), label=r'$\\sigma_I$')\n",
    "\n",
    "for k, ex_level in enumerate(sigma_ex):\n",
    "    plt.plot(eV_list, ex_level, label=f'$\\sigma_{{ex,{avgs[k]:.2f}}}$')\n",
    "\n",
    "plt.xlabel('Energy [eV]')\n",
    "plt.ylabel(r'Cross-Section [cm$^2$]')\n",
    "\n",
    "plt.title('Ar Elastic Scattering Cross-Section')\n",
    "plt.ylim([1e-18,1e-14])\n",
    "plt.xlim(1e-2,3e+2)\n",
    "plt.xscale('log')\n",
    "plt.yscale('log')\n",
    "\n",
    "plt.legend()\n",
    "plt.grid()\n",
    "plt.tight_layout()\n",
    "plt.show()"
   ]
  },
  {
   "cell_type": "markdown",
   "metadata": {},
   "source": [
    "The below cell calculates and shows each cross-section multiplied by the electron velocity corresponding to the $x$-axis kinetic energy. These values are used to calculate the probability of scattering events. $K_\\mathrm{max}$ is taken to be the peak of the sum of these values."
   ]
  },
  {
   "cell_type": "code",
   "execution_count": null,
   "metadata": {},
   "outputs": [],
   "source": [
    "compos_x_sec = np.array([])\n",
    "for i, e in enumerate(eV_list):\n",
    "    compos_x_sec = np.append(compos_x_sec, max(final_sigma_e(e), final_sigma_p(e) + sigma_i_func(e) + sigma_ex_tot[i]))\n",
    "\n",
    "plt.plot(eV_list, sigma_p_func(eV_list) * E_to_v(eV_list) * 1e2, label=r'GAr $v\\sigma_p$')\n",
    "plt.plot(eV_list, (sigma_p_func(eV_list) + sigma_i_func(eV_list) + sigma_ex_tot) * E_to_v(eV_list) * 1e2, label=r'GAr $v\\sigma_{total}$')\n",
    "\n",
    "plt.plot(eV_list, compos_x_sec * E_to_v(eV_list) * 1e2, label=r'$v\\sigma_{total}$')\n",
    "\n",
    "plt.plot(eV_list, final_sigma_e(eV_list) * E_to_v(eV_list) * 1e2, label=r'$v\\sigma_E$')\n",
    "plt.plot(eV_list, final_sigma_p(eV_list) * E_to_v(eV_list) * 1e2, label=r'$v\\sigma_p$')\n",
    "\n",
    "plt.plot(eV_list, sigma_i_func(eV_list) * E_to_v(eV_list) * 1e2, label=r'$v\\sigma_I$')\n",
    "plt.plot(eV_list, sigma_ex[0] * E_to_v(eV_list) * 1e2, label=r'$v\\sigma_{e_{11}}$')\n",
    "plt.plot(eV_list, sigma_ex[1] * E_to_v(eV_list) * 1e2, label=r'$v\\sigma_{e_{13}}$')\n",
    "plt.plot(eV_list, sigma_ex[2] * E_to_v(eV_list) * 1e2, label=r'$v\\sigma_{e_{14}}$')\n",
    "plt.plot(eV_list, sigma_ex[3] * E_to_v(eV_list) * 1e2, label=r'$v\\sigma_{e_{15}}$')\n",
    "\n",
    "plt.xlabel('Energy [eV]')\n",
    "plt.ylabel(r'Velocity $\\times$ Cross-Section [cm$^3$/s]')\n",
    "\n",
    "K_max = round(np.amax(compos_x_sec * E_to_v(eV_list) * 1e2) * 1.01, 9)\n",
    "plt.plot(np.logspace(-3, 3, 10), np.full(10, K_max), 'k--', label='$K_{\\mathrm{max}}$')\n",
    "plt.title(f'Determination of $K_{{\\mathrm{{max}}}}$')\n",
    "\n",
    "plt.xscale('log')\n",
    "plt.yscale('log')\n",
    "\n",
    "plt.legend(loc=3)\n",
    "plt.grid()\n",
    "plt.tight_layout()\n",
    "plt.show()"
   ]
  },
  {
   "cell_type": "markdown",
   "metadata": {},
   "source": [
    "This final cell generates the LUTs used by the simulation."
   ]
  },
  {
   "cell_type": "code",
   "execution_count": null,
   "metadata": {},
   "outputs": [],
   "source": [
    "if os.path.exists(\"../../src/LUTs/CrossSections.h\"):\n",
    "    os.remove(\"../../src/LUTs/CrossSections.h\")\n",
    "\n",
    "header = open(\"../../src/LUTs/CrossSections.h\", \"a+\")\n",
    "\n",
    "np.savetxt(header, [], comments=\"\", header=f\"#ifndef CROSSSECTIONS_H\\n#define CROSSSECTIONS_H\\n\\nconst double eV_min = {eV_min};\\nconst double eV_max = {eV_max};\\nconst int eV_steps = {eV_steps};\\n\\nconst double K_max = {K_max};\\n\\nconst double effective_xsec_liquid[] = {{\")\n",
    "np.savetxt(header, final_sigma_e(eV_list), newline=\",\")\n",
    "np.savetxt(header, [], comments=\"\", header=\"\\n};\\n\\nconst double momentum_xsec_liquid[] = {\")\n",
    "np.savetxt(header, final_sigma_p(eV_list), newline=\",\")\n",
    "np.savetxt(header, [], comments=\"\", header=\"\\n};\\n\\nconst double momentum_xsec_gas[] = {\")\n",
    "np.savetxt(header, sigma_p_func(eV_list), newline=\",\")\n",
    "np.savetxt(header, [], comments=\"\", header=\"\\n};\\n\\nconst double excite_xsec_11[] = {\")\n",
    "np.savetxt(header, sigma_ex[0], newline=\",\")\n",
    "np.savetxt(header, [], comments=\"\", header=\"\\n};\\n\\nconst double excite_xsec_13[] = {\")\n",
    "np.savetxt(header, sigma_ex[1], newline=\",\")\n",
    "np.savetxt(header, [], comments=\"\", header=\"\\n};\\n\\nconst double excite_xsec_14[] = {\")\n",
    "np.savetxt(header, sigma_ex[2], newline=\",\")\n",
    "np.savetxt(header, [], comments=\"\", header=\"\\n};\\n\\nconst double excite_xsec_15[] = {\")\n",
    "np.savetxt(header, sigma_ex[3], newline=\",\")\n",
    "np.savetxt(header, [], comments=\"\", header=\"\\n};\\n\\nconst double ionization_xsec[] = {\")\n",
    "np.savetxt(header, sigma_i_func(eV_list), newline=\",\")\n",
    "np.savetxt(header, [], comments=\"\", header=\"\\n};\\n\\n#endif\")\n",
    "\n",
    "header.close()"
   ]
  },
  {
   "cell_type": "code",
   "execution_count": null,
   "metadata": {},
   "outputs": [],
   "source": []
  }
 ],
 "metadata": {
  "kernelspec": {
   "display_name": "Python 3",
   "language": "python",
   "name": "python3"
  },
  "language_info": {
   "codemirror_mode": {
    "name": "ipython",
    "version": 3
   },
   "file_extension": ".py",
   "mimetype": "text/x-python",
   "name": "python",
   "nbconvert_exporter": "python",
   "pygments_lexer": "ipython3",
   "version": "3.7.9"
  }
 },
 "nbformat": 4,
 "nbformat_minor": 2
}
